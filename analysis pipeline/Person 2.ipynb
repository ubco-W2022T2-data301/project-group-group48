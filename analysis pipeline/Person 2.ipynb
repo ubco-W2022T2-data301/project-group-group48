{
 "cells": [
  {
   "cell_type": "code",
   "execution_count": null,
   "id": "318c8757-bd0a-4432-8b27-7b31fbb03700",
   "metadata": {},
   "outputs": [],
   "source": []
  }
 ],
 "metadata": {
  "kernelspec": {
   "display_name": "Python 3 (ipykernel)",
   "language": "python",
   "name": "python3"
  }
 },
 "nbformat": 4,
 "nbformat_minor": 5
}
