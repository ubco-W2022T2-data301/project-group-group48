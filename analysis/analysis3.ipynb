{
 "cells": [
  {
   "cell_type": "markdown",
   "metadata": {},
   "source": [
    "# Annabelle Ngarambe "
   ]
  },
  {
   "cell_type": "markdown",
   "metadata": {},
   "source": [
    "## Research question/interests\n",
    "\n",
    "## Research question 1: Is there a relationship between the historical time frame of a song and the features that make it popular?\n",
    "\n",
    "One of the things I love about music is how timeless a tune can be regardless of trending genres\n",
    "and artists. I am hoping that with this project, we can gain a better understanding of the factors\n",
    "that make a song popular and gage their relevance across different time frames. For example,\n",
    "we could look at what elements made music popular in the 80s compared to the elements that\n",
    "attract listeners nowadays. To answer this, we would need to create a new column that\n",
    "classifies the songs according to their year of release. Once we observe trends in the features\n",
    "that contribute to music popularity in general, we can narrow our focus songs within a specific\n",
    "time frame. If certain features are more relevant in a specific time frame than in others, then\n",
    "we could suggest a relationship between the time frame that a song was released in and its\n",
    "popularity\n",
    "\n",
    "## Research question 2: Are there elements that are crucial to the success of a specific musical genres?\n",
    "\n",
    "This question can be answered by observing trends in different genres of music. We could add a\n",
    "column that classifies our data by the music genre of the song and look for recurring features in\n",
    "specific genres. If a specific feature appears in popular songs within the same genre more than\n",
    "others, then perhaps those features are important to the success of songs in that genre."
   ]
  },
  {
   "cell_type": "code",
   "execution_count": null,
   "metadata": {},
   "outputs": [],
   "source": []
  }
 ],
 "metadata": {
  "kernelspec": {
   "display_name": "Python 3 (ipykernel)",
   "language": "python",
   "name": "python3"
  }
 },
 "nbformat": 4,
 "nbformat_minor": 4
}
