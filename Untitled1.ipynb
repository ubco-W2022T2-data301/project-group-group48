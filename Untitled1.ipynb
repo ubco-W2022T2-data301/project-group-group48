{
 "cells": [
  {
   "cell_type": "code",
   "execution_count": null,
   "id": "a1c85742-7664-4d0a-a6bc-7e79a4312b0a",
   "metadata": {},
   "outputs": [],
   "source": []
  }
 ],
 "metadata": {
  "kernelspec": {
   "display_name": "Python 3 (ipykernel)",
   "language": "python",
   "name": "python3"
  }
 },
 "nbformat": 4,
 "nbformat_minor": 5
}
